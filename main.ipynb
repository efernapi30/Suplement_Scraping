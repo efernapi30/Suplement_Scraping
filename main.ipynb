{
 "cells": [
  {
   "cell_type": "markdown",
   "metadata": {},
   "source": [
    "Install:\n",
    "- pip3 install beautifulsoup4\n",
    "- pip3 install selenium\n",
    "\n",
    "LIBRERIAS"
   ]
  },
  {
   "cell_type": "code",
   "execution_count": 10,
   "metadata": {},
   "outputs": [
    {
     "name": "stdout",
     "output_type": "stream",
     "text": [
      "Defaulting to user installation because normal site-packages is not writeable\n",
      "Collecting python-whois\n",
      "  Downloading python-whois-0.8.0.tar.gz (109 kB)\n",
      "\u001b[2K     \u001b[90m━━━━━━━━━━━━━━━━━━━━━━━━━━━━━━━━━━━━━━━\u001b[0m \u001b[32m109.6/109.6 kB\u001b[0m \u001b[31m3.2 MB/s\u001b[0m eta \u001b[36m0:00:00\u001b[0m\n",
      "\u001b[?25h  Preparing metadata (setup.py) ... \u001b[?25ldone\n",
      "\u001b[?25hCollecting future\n",
      "  Downloading future-0.18.2.tar.gz (829 kB)\n",
      "\u001b[2K     \u001b[90m━━━━━━━━━━━━━━━━━━━━━━━━━━━━━━━━━━━━━━\u001b[0m \u001b[32m829.2/829.2 kB\u001b[0m \u001b[31m13.0 MB/s\u001b[0m eta \u001b[36m0:00:00\u001b[0m00:01\u001b[0m\n",
      "\u001b[?25h  Preparing metadata (setup.py) ... \u001b[?25ldone\n",
      "\u001b[?25hBuilding wheels for collected packages: python-whois, future\n",
      "  Building wheel for python-whois (setup.py) ... \u001b[?25ldone\n",
      "\u001b[?25h  Created wheel for python-whois: filename=python_whois-0.8.0-py3-none-any.whl size=103241 sha256=2801f212bad52248b4511a2fc6255b1e82105726e462bba1b212575f53ee34d9\n",
      "  Stored in directory: /Users/estrellafernandezpinto/Library/Caches/pip/wheels/a5/49/e4/681b0d736d1b684644c7d160b25f32963ad36e578f001528b9\n",
      "  Building wheel for future (setup.py) ... \u001b[?25ldone\n",
      "\u001b[?25h  Created wheel for future: filename=future-0.18.2-py3-none-any.whl size=491056 sha256=c54be35c87dd0bae2c0492e0e065197d3a33d9b6d5e7edafa715ca67f0f6455d\n",
      "  Stored in directory: /Users/estrellafernandezpinto/Library/Caches/pip/wheels/01/49/0c/4e0a697824c7bd6516afb22e1af9d51427ccd36c74b05a297e\n",
      "Successfully built python-whois future\n",
      "Installing collected packages: future, python-whois\n",
      "\u001b[33m  WARNING: The scripts futurize and pasteurize are installed in '/Users/estrellafernandezpinto/Library/Python/3.8/bin' which is not on PATH.\n",
      "  Consider adding this directory to PATH or, if you prefer to suppress this warning, use --no-warn-script-location.\u001b[0m\u001b[33m\n",
      "\u001b[0mSuccessfully installed future-0.18.2 python-whois-0.8.0\n"
     ]
    }
   ],
   "source": [
    "!pip3 install python-whois"
   ]
  },
  {
   "cell_type": "code",
   "execution_count": 16,
   "metadata": {},
   "outputs": [
    {
     "name": "stdout",
     "output_type": "stream",
     "text": [
      "Defaulting to user installation because normal site-packages is not writeable\n",
      "Collecting builtwith\n",
      "  Downloading builtwith-1.3.4.tar.gz (34 kB)\n",
      "  Preparing metadata (setup.py) ... \u001b[?25ldone\n",
      "\u001b[?25hRequirement already satisfied: six in /Library/Developer/CommandLineTools/Library/Frameworks/Python3.framework/Versions/3.8/lib/python3.8/site-packages (from builtwith) (1.15.0)\n",
      "Building wheels for collected packages: builtwith\n",
      "  Building wheel for builtwith (setup.py) ... \u001b[?25ldone\n",
      "\u001b[?25h  Created wheel for builtwith: filename=builtwith-1.3.4-py3-none-any.whl size=36097 sha256=b7b200dca5d8b967b401e89fc8df18d1a35f236477415b47de052c126249ffee\n",
      "  Stored in directory: /Users/estrellafernandezpinto/Library/Caches/pip/wheels/fc/2c/23/86de9ef21afabb709b1b6e32d794accee3c45cccda5466aab3\n",
      "Successfully built builtwith\n",
      "Installing collected packages: builtwith\n",
      "Successfully installed builtwith-1.3.4\n"
     ]
    }
   ],
   "source": [
    "!pip3 install builtwith"
   ]
  },
  {
   "cell_type": "code",
   "execution_count": 17,
   "metadata": {},
   "outputs": [],
   "source": [
    "from urllib.request import urlopen #to open URL\n",
    "from bs4 import BeautifulSoup\n",
    "import requests\n",
    "import csv\n",
    "import re\n",
    "import pandas as pd\n",
    "import whois\n",
    "import builtwith"
   ]
  },
  {
   "cell_type": "markdown",
   "metadata": {},
   "source": [
    "**Avaluació inicial de la pàgina web**\n",
    "\n",
    "Primer farem una avaluació inicial de la pàgina web de la que es vol fer web scraping. Per això, definim la variable `href_source` que conté la referència de la pàgina web."
   ]
  },
  {
   "cell_type": "code",
   "execution_count": 20,
   "metadata": {},
   "outputs": [],
   "source": [
    "href_source = 'https://supplementdatabase.com'"
   ]
  },
  {
   "cell_type": "markdown",
   "metadata": {},
   "source": [
    "***Grandària***"
   ]
  },
  {
   "cell_type": "code",
   "execution_count": null,
   "metadata": {},
   "outputs": [],
   "source": [
    "site(href_source)"
   ]
  },
  {
   "cell_type": "markdown",
   "metadata": {},
   "source": [
    "***Tecnologia***"
   ]
  },
  {
   "cell_type": "code",
   "execution_count": 18,
   "metadata": {},
   "outputs": [
    {
     "data": {
      "text/plain": [
       "{'web-servers': ['Nginx'],\n",
       " 'font-scripts': ['Google Font API'],\n",
       " 'javascript-frameworks': ['Modernizr', 'jQuery'],\n",
       " 'widgets': ['OWL Carousel'],\n",
       " 'photo-galleries': ['jQuery', 'OWL Carousel'],\n",
       " 'web-frameworks': ['Twitter Bootstrap']}"
      ]
     },
     "execution_count": 18,
     "metadata": {},
     "output_type": "execute_result"
    }
   ],
   "source": [
    "builtwith.builtwith(href_source)"
   ]
  },
  {
   "cell_type": "markdown",
   "metadata": {},
   "source": [
    "***Propietari***\n",
    "\n",
    "Analitzem fent ún de la funció `whois` qui és el propietari de la pàgina web `https://supplementdatabase.com`."
   ]
  },
  {
   "cell_type": "code",
   "execution_count": 13,
   "metadata": {},
   "outputs": [
    {
     "name": "stdout",
     "output_type": "stream",
     "text": [
      "{\n",
      "  \"domain_name\": [\n",
      "    \"SUPPLEMENTDATABASE.COM\",\n",
      "    \"supplementdatabase.com\"\n",
      "  ],\n",
      "  \"registrar\": \"NAMECHEAP INC\",\n",
      "  \"whois_server\": \"whois.namecheap.com\",\n",
      "  \"referral_url\": null,\n",
      "  \"updated_date\": [\n",
      "    \"2022-01-15 08:14:08\",\n",
      "    \"2022-01-15 08:14:08.120000\"\n",
      "  ],\n",
      "  \"creation_date\": \"2019-02-14 04:21:29\",\n",
      "  \"expiration_date\": \"2023-02-14 04:21:29\",\n",
      "  \"name_servers\": [\n",
      "    \"NS1.SUPPLEMENTDATABASE.COM\",\n",
      "    \"NS2.SUPPLEMENTDATABASE.COM\",\n",
      "    \"ns1.supplementdatabase.com\",\n",
      "    \"ns2.supplementdatabase.com\"\n",
      "  ],\n",
      "  \"status\": \"clientTransferProhibited https://icann.org/epp#clientTransferProhibited\",\n",
      "  \"emails\": [\n",
      "    \"abuse@namecheap.com\",\n",
      "    \"dfbb3004bffb46c6a1052a42e587d132.protect@withheldforprivacy.com\"\n",
      "  ],\n",
      "  \"dnssec\": \"unsigned\",\n",
      "  \"name\": \"Redacted for Privacy\",\n",
      "  \"org\": \"Privacy service provided by Withheld for Privacy ehf\",\n",
      "  \"address\": \"Kalkofnsvegur 2\",\n",
      "  \"city\": \"Reykjavik\",\n",
      "  \"state\": \"Capital Region\",\n",
      "  \"registrant_postal_code\": \"101\",\n",
      "  \"country\": \"IS\"\n",
      "}\n"
     ]
    }
   ],
   "source": [
    "print(whois.whois(href_source))"
   ]
  },
  {
   "cell_type": "markdown",
   "metadata": {},
   "source": [
    "Busquem quin és el nostre `user agent` del navegador. \n",
    "Durant el procés de web scraping, el nostre script anirà enviant diverses peticions HTTP i el `user agent` s'estableix automàticament, fent que quedi evidència que les peticions provenen d'un script. Per aquest motiu, buscarem el `user agent` del nostre navegador al navegador (`Mozilla/5.0 (Macintosh; Intel Mac OS X 10_15_7) AppleWebKit/605.1.15 (KHTML, like Gecko) Version/14.1.2 Safari/605.1.15`) i reemplaçarem aquesta capçalera per evitar ser bloquejats a l'hora de fer web scraping.\n"
   ]
  },
  {
   "cell_type": "code",
   "execution_count": 27,
   "metadata": {},
   "outputs": [],
   "source": [
    "user_agent = {'User-agent': 'Mozilla/5.0 (Macintosh; Intel Mac OS X 10_15_7) AppleWebKit/605.1.15 (KHTML, like Gecko) Version/14.1.2 Safari/605.1.15'}"
   ]
  },
  {
   "cell_type": "markdown",
   "metadata": {},
   "source": [
    "Entrem a la web de tots els productes del tipus `Protein Supplement` i obtenim el html."
   ]
  },
  {
   "cell_type": "code",
   "execution_count": 15,
   "metadata": {},
   "outputs": [
    {
     "name": "stderr",
     "output_type": "stream",
     "text": [
      "Some characters could not be decoded, and were replaced with REPLACEMENT CHARACTER.\n"
     ]
    },
    {
     "name": "stdout",
     "output_type": "stream",
     "text": [
      "U��A\u0015�I�\u0007@U`�n�u\\���Z�\u001dW�㿋S^'\u001bC&amp;@RG6V�NKc\u001d|�l9�n�-\u0012p\u0001P�2���o��Y!v\u000e!v)T��\u0019���Mc����\u0004\u001f̀��\u0001�c�����p\u0015I���}�!8�Ć��\u0014H�\\\u0005*C!V�:.\u001aw�*%��,&gt;\u0005��\u000eΔS.S�K��P��\u0001��\u0013[���9n�)ؓ\f�\u001b&amp;�2�MK�Y'�\u0019��1�$$Hz�/+s�#'yl[�Sa�[�\u0012�jCs��\u001d���\u0013�\u0011FW�c��_�J\u0007\n",
      "<g6�����\u0018%�;�?l���p�\u0018�̛��1#�� .\u0007��\u0010�=\"\" ?݈�ĩ5����m\u001a�j'��d̝�2bܝ����)z,\u0018����\u000e��dѓ��߁�=\"\" �=\"\" �\u0004����\u0018,g���\u0011=\"\" �\u0015y��\u0000�=\"\" �\u0018����aї��a��v�=\"\" �j��<��yf��=\"\" ��=\"\" ��n�\u0000jk�l�:��=\"\" ��p\u0014⻹�=\"\" ���ij�a\u0001�^b�pk]�^�q�\u0007���=\"\">\n",
      " ��\u0019���NM��71��\u000f��1Z��\u0002�=��n��܏���~w��qK�=�V��F�O��\u001e�?Yt\u000e�LL���a-&amp;|I:�H������;��&gt;I\u0004��\"\u000eH�i�\u000e~\u001a\u0017Q�\u0007�����~(H/i��=�ʎ�)+\u000f\u000bB��)~���\u0015C����\u0001:\n",
      "�@�}�\u000e��b�t�Y��\u0001\u0014�!��cy~�o�O\u0016n���\u0012\u0010\u0006F]3�\u0018\\\f4؄������z&gt;�r/ǔ�'��\u0012A�I\u0017���P.�K�jʶ�o#\u0017�=��C�ɢb\u0017��C�o[�g�{Ho�\u001a4[_������qB�L-��@��\u001et�5��Y������\u000f���μi�E2��~(�c���\u0007����\u0007\fd]&gt;&lt;\u0010��\u000e��I|pd��Z/\u001f�\u0019Ư\u0015��H&lt;�:]�@]�?%�~�.ކn��\u0013��A\u000f��s�c8_SP,8V��]�GWz�}\u001a-X�\u0010�_kӣN�t\u000f�\u001ci�k��\u001e��\u0013u[{��v�{p����y�N�?j#�i\u0007:��ԫS�\u0005���S�NG�^�F�\u000f�WI�{��mC�[��}׮Am�Eu��\u0017���0��M�\n",
      "\u000bsqߖڛo����\u0013��h˘�X����K)?į�\u000bca�e-��AbWg���V�N\\6��Ͻ�Z�N\n",
      "ɬ �g�����)��qOQ)^����UY�V��dW�7*'�?D��)sQ\u001d\u0003��`ϸ\u001f����L�c\u0000�2&gt;��R˓̙Q��Reh\u001bCŎS�0ۈ\n",
      "T�5�1f����w����\t���\u0000��r\u001f��\u0006�\u0012�d!-E��i��`�i����)K�&gt;e�)��\u0003\u0016�w�A'�`\u0006�����L�r�kx�ŗ,[_�|�\u0005a\u0001+yt4U�N��a�yS���\u000b+�g}#K2�K�\n",
      "�K�����\u0000�,�\u00058c�\u0000�����R�y�T֤�\"&amp;p+\u0006���U�\u0006�\u0012�\u000ey�gq(��^\u0019�\u0000HXvT��Xᕬ\u0005/�\u0019��\u0003�PB:�_��\u0015�\u0000\n",
      " <m�\u0003\u0002��� \u0007�yu=\"\" \u0015w�l\u000f���ɻ�p�:q\u0017�d�k��惔#���}'|qߕ)m(��z��<=\"\" \"遤kݰ��\u00047�xn�c��5(�=\"\" &m)=\"\" @\u0016�k=\"\" j17\u0001��\u001b�n�\u0010�\u0002�2x�h#��쑳\u0017ܒw�!h=\"\" u4]xt�2��u�h\u0017�u��38qwt�.ϛƿd&`�m�[�_kl<ߠ*\u0019o�@�f�����e\u0010���c�1\u0002�\u0007��[�`c���!\u0016��h�r���ne�g�ed\u001b`��6)�j��\u0005��0�{�1\u0018\u0018�im͠�|����j�\u0001\u0019�p�p�ud��=\"\" �\u0001�\"g��!1$��\u000e����\u0000=\"\" �\u0007+�t���=\"\u0004Ğ4Ǝ&lt;�'$�b��=����\u0002\u0004S���S��IOˢ2�q4����0y���\" �\u000f=\"\" �#�f�\u0001ⅼ\u0007e�aw���x�\u0007���-\u0004}��rw�\u0000�a�ֿ��nd=\"\" �:�6u�gc�~y�ko�=\"\" �a�p���\u0001t��\"|\u0005�\u0013\u0004�v�.#����=\"\" �d1����v\u0019�u�c�ם�=\"\" �k\u0016��=\"\" �so�\u0014\u000e�������xl=\"\" �w�jkmj�춟ov�#-c��.�\u00120�qe��=\"\" ��=\"\" ��\u0002�1�����=\"\" ��l\u0017�e}b=\"\" ��t����`��&�ᷘp\u0016#�~u��[�˽t<,\u000f�=\"x_x�\u000bJ�\u0007\u001fZ�1R��\u001f�pA�\u0019sD߰$����\u001d�s�'ݢ'Huf����(O�\n",
      "��BdS���\u0014}�hs\u0012�\u0019q����ģ9���FO���|t\u001f�e���b��\u000e��YU����SG���\n",
      "�1�~jh҃��A#�e-�ڑ�]-s-�O?��\u0013��cX !�����!$k:\u000e�\u0005�'�63�`�EU.�N��Ǿ\u001bx\">\n",
      "��+�a�[\f��06�n\u0007�Y�@=8d����V�9塡׺M��X\u0013��N����C.i���\u0000�s\u0007���u��XK\u000f���C?\u0010�T���\u000e\u001b�:_\u0013\u0015f��&amp;'�P�N\f�8������`I���$|_�(��&lt;\u0018NK��w�a��\u0017�T�b�$,\u0003`G�Q���6�j���7C\u001d��3\u0005�\u0003\u0018\u001fD.O\u0005�eR�T�4���]��t�&gt;%�\\\u0011yn_��̗\n",
      "  <ic&���k$\u000edd5���ͱo� `o@���\u0012=\"\" g�,c�,�~�=\"\" r����[�\u0001�jg��':�m�h�\u001bt�\u0015,�����z�p�\u0002c���=\"X��5bX\u001b(��=�\u0017�\u0014\" �d=\"\" ���=\"\" �������m=\"\">\n",
      "�yQ�\u001c6��K��6�΅�\u0004\u001ca���Q���C�\u0018�� �Ǣ'zq@\u0010�hh��֛�`�C��=�\u001dtE���\u0012DܪvC}iw8��\u0017����\u0019�ʺ�W��v�{�yL�;kې����\u0016\u0000\u0005mxo�!� \ta:\u0005�9Ob���a�IX�\u0011\u0012O��r1j�\u0012�SŢ�W�a\u0006��\u0006�\u000f���_�E6\u0004\u001e]��|\u0001m��߄�V���NZ�}\u0007����S�XoJ\t\u0001�_���\u0010���\u0006�\u0019��;$�pg�׽�f{3�p��/:U\u0018�?ȿ\u0003*���Q�4Q9�\u0011�\u001a�#��);(�&gt;ӷ��P�;ג��vf�h&lt;�f��'\u0003�V�|�\u0018iw�\u0015�?�\u0018Z��D�Gި1A9��v%�\u00024T$�\u0002��tY��Z� T8�\u0002����\u000347H�g�Ф�Kˎ[\u001c\fn�}L���;� �i�x��+�j[�q\u0004�}�\u0019�a����\u0001�迍[��.Ay�;y��vv�\u001c�\u001bs��|\u0003\u0001\u0019���\u0013��\u0016��F�,\u000e`O�����\u0002�ͼ��8d��t����J~�G,7\u0010v��\u000f���:˺n5����y����q��\u000e֪�x/_ԍ�~\u001a� �\u001a�\"�8l�\u000f�H��\u0001v0�ݴ\u000b\u001f`F\u001c/�\\�\u001b(��9d��O\u0005\u001a��[�bg�\u000e�q\u0003q�O����?m�Qi[��u��V�\u0005\u001f��p]KtN�MH�K�����`O��&amp;,�\u0012�τ&amp;\"26����O\u0017�\u0014�WƘ�t{\u001bS���9l&gt;No��g�5\u0007\u001f��}�\u0004l+���RR�P�g=�9I\u001f2�����8��[�\u0007���$\u001eu\u000e�\n",
      "��ţ\f9�\u0001�\u001a�D��Ld�{?]п�'���y;�YJ��:�7�\u000f7��Gҷ���!��'�)7�\u0006)\u0000���\u0011B��#Y@\n",
      "w��&lt;�*4G[qI+�淲zt�fͅa%��P�ht�a�ј�r�(��\\�W�tZ#�h�l�(��W�� \u0013l��6�qQb�\u001f���O��þ\u000f�o5��q�z�[��t\n",
      "�W8�܉`?}\u0005\tp߷�V�d�\u000b?����4A7���\u001bKӖh#}\u0019\u0012����eu+��hQI\u001f\u001fH��\u001a\u0018�\u0005\u00118�q�p��)���b�zq�[\u00112G��z2jL���8�\u0015�\n",
      "�����F`B�Q�)���\u0012�\u001c�h\u001dm\u001b���\u0015nE8��\u0005�\u0018@\u0019?\u001e\u001b��oT\u0015�%'��xO�:G��\u0013\u00028\u001ePf\u001fZS��^Ϳ���:�w[M���&gt;��\u001cߊ��4A���б'\u0012\u0004Ai��\u0006�&lt;�9�s�+B�\u0014Jp9�'���C\u0006\u0016���i':m��\u001e݉ܕ�\u0015���W\u0017���KZ��f[�B\u0003%�o����̶R\u0005��H-J&lt;;\fG)Y�,��B Z�o�0�\u0014��%\u001cr���s��\u0017��nɏv�\u0002�]&lt;\u0018�xio��!��\u0004N\\A��~�\u0005]\u0003�E�\u0016��`TB��`�C���r3\u0004�\n",
      "�GA�\u0019�2\u0017�#5M��?yb\u0010.���A\u001c\u0014���\u001e�0���d\u0007�{s\u0005\"��ZPo���d���w�`\u001a\"\tM��,�?���|��}�V�k\u0005�j0|~��\u000e�DH�z�E�P��y�\u0005��z\u001b\u001e�#o�\u0015\f�ls�\u0003� l�\u0016�3Z�\u0019� Z��\u0002�P\\Ȓj���VTJs����\u0014M_w,\u0018B\u001d���'�&gt;�D�E�/�\u0015%���g&lt;9�@!\u0012w&amp;T���\u0004[�oC�/\u0013e:����\u0004j��#�\u001a؂\"�@P�n��ʏ6\u0000I:\u0010�Z�y��F?$�\"�&gt;��j/���\u000e.�^\u0019\u0007�x�\u0011I�PP���\u000fI\u000b\u0001+G|z��\\o\u0012�@��%�\u0003��B�\u000e�d4H�V0\n",
      "*�2;���I��\u000fYr�ϼ_ɶ\fv�\u000f�q�gY5\u0011X��\u0005�ul�j�gql~U��h:vUM\u0011HZD6��Q\u00172I\"Ă���ɢ\u0016M\u0007S,�7T7�+\f���I|\u000fL�jE����7\tf���^E�Mr٫���Z�(�\u000e��)\u000e�=/\u0001�S��sZP��T&amp;�:HU��#9����M\u0010o\u001a]&gt;\u0012a\u0015+N�)��\\y��\u0011!\\\u001b�⺲\u000e\u0003:�p#\u00101JC���\u0018����R�}�G\u0013R�͍U�\u0011\u0019�4G�ޖxs�|o��1�u+�?1w��r&amp;��v��%�L\u0011�#�\u000fхЇЁ�xq�L6_\u0001\t�W*$��\u0002�{��W�)�M�%������\u00021��\u000b,�XH\\�\u001e'�L����6X�Ҽ&lt;7VN��Fg.\u001f��\u0003A��m��2���qVQ�|��[ҥ�؋�\u001e\u0014���\u0007A��8�qx)*w����\u001c��o�m�Z\u001br�b\u0001k�\u0015\u00199Ëo�Vdd�#\u0014G0�\u0018i&lt;\u001a%s��@{BKOCׅ�E�6�����\u0013;-c\u0017�ːu $�,8�WtБ�9�͸��W��)c���Iܺ\u0003�j��\u0015=�_n��C�G\u0000:�JԢ&gt;P�v\u0001�0�5&lt;\u0015Z�\u0003�\n",
      "� O�\u001a��u!Z\u000b���l'�\u000b�n�Cɴ�6!^��ɮ�6��(a��\u0000�=\u0012a\u0016Ƿ_L��&amp;��\u001dR�Vi3�vxs�\tpc����IY7wݣ���T�f�ʊ�j����9kQ4�ǪU�T�_s�\u0011��\u0016P�� ��$�֋!?\\��Y�4�1�^\u0002�S�\u0005���i�\u0006�\u0016�\u000f�J\u0004TT�Tq�6^\\�VP@\u000b�[�T\u0015\u0004�Wٴ���\u0015��*Ҧ&amp;���+�\u0001\u0007A+2�\\CCm�&gt;f��Zl\f�NH5\u000e����V�@��x#����ՙ�J\u0011l\u0007!\u000elϗ�5#�H�b�=�@.T?\\��\u0000/̕�4ڛ�\\\u0018\f?���J�\\��|��t��p�@\u0018t$�Y�\"��m�\u0015ifص��lA�\u0019���&lt;�=`n�����Лk,P�q�\u0015\u0019Wt9�f�٤RKQݷ�Zs&amp;\n",
      "{s\u0007��\tM\"��8��\u000e7��3w�mKj�\u0015\n",
      "�)�2\t�v!$Bn�����͔)�\u0007Z���d�P\u000b��0f�WX��;�DsV6���e��(��\u000b�O.ܰ*2�d\u0002'�ERj�\u0017\"�\n",
      "\u001e|�)�R��7�C9�����n�P.ɰ��\u0000\u0016\u001fje��\u0001&lt;��\\\u001c���k��t��J�)h\u0014n�\u0015�a�\u000fЬ�d�tH�p_��MIZ0�d��):\u0010&amp;!\u0018V2�\u001a��v���|2J�}\\���Tr�8�����e\u0005\\\u0006`qv�&gt;9���!�\u0003d�O�Ԝ=�\u001eF��RC\"r&amp;΁7c��U��jz�B�M�{ \u0019�|�!,.Y�\u0005�Y�k�^�&amp;P0.\u0005�OER\\WJ9ֻ깓=��[y�Hz9V\\�&gt;���(�YOz&lt;�\u001b�\u0007sj��Q9�����QK@=\u0005B*�\u0002�+�օ��Xצ1rU��\u0010\u001e|�is�$\u000f\u0007(ɝ��I��O��\u001a\\�j�S\u000e��U�ݵig��X�X\u00124�HET G����U�ZN##�N^��\u0012��\u0013�u���T�\u0005�S\u0013E8�gFhmܬ�u���\u00141Z��i�J��/����M\u001a�.�5�\u001eB��,�d�A���\u001c\u0011�\u0011iz�+�y���\u001d|�G�\u0005VPaTBDz��%]��e��=�\u001cH�w�����\u0017j-F&amp;S|̕�k��ޚFQ�wk�P]@�\u000f�j�5~�/�(�\\?��v`�(\u0003!�1jF�\u000b��\\�h`��3xEyxի�(\u0010\u0000@�\u0016�W�i@�!\u0011�Up�V�`Lٖ�-+h4�\u0018YBH�T����\t���g�B��\u001e�Կ��t�Th��H�h���|\u0019�\u0018\u001f \u001b,�|2\u0014*�|���\u0010��Q�˘�떬B���1��\u0017��`��T\u0003h@\u0000;\u001d\n",
      "���ԵϏ�\\d�@\u001f�LC�f�_\u001b��O\u0016Ƽ�kт��\u001d[�����h\u0017{%\u001b�l��ɘ�}E˗h�B��fs��\u0017w\u000f8;���I�c�L\u0002=�\u0005%�,��k\u0016M��\u001b�֑����\fLQ%��D6\u0019�h\u0012�\u0014\u001fY�\u001c�w��q����?�u���P�\u0019\u000b��6\fEuǯT�����]F\u0018�\u001aO¬O�%j8����OŖm��A����^�UesR��w$/!\u0000�~Rs�jI&gt;w\u001a96˓�er��2��\u000e#ɘ�)�@�x������e�֟�i�/],��9�|6\u000f����[�N�f� �\\~�[�\n",
      "   <pe��� ^�pd�rq6��q�\u0017\u000fu���m}�g\u0013f�f=\"\" p��wmv�\u00170}-�\u00131�y=\"\" s=\"\" t�]���j�*c�lh�u�t��3�����=\"\" �=\"\" �\u000e�l�a�:�_|��=\"\" �;��=\"\" �c�=\"\" �͑�5�,�τ�ż%�=\"غg��7:fsC\u0013���\u0013\u0019�h��\" ��\")j<db�@*�.�\u0012��z�l��ƕ�xj&\u0015q���u��6���m���n=\"\" ��x�\u000e9\u0015w��bv�=\"\" ���\u0019\u0013���dl\"i��g*�l3�=\"\" ���s�-\u0015צ�*�,y����n�yp2���s=\"\" ���ǧ�h%b�sk=\"�y�G�\u0002��'���\u0002k&lt;\u0001������=b�*B\u0019\" ���͜��q����\u0019��o(m��2�\"��{=\"\" ����g�=\"\">\n",
      "    IXK��\u001c��x�=1��q��(ޓ�D\u0005(�P��l&gt;���Y|��qo���x6\u001b��l��Ȼ��\u0019d�x֒�\u001a�m\u001a�V?\u001c��&amp;t��B���A\u001aG��W��|ұ'[/����(��zE�ў̥\u0015��.\u0015k��.a��]��y�XN�蠂`h��e:��Pg\u0017�W\u00132��'6d&amp;��\u0000�\u001d�\u0012��\u0007�!��K\u001cBZ��N^\u000er�=�Y�\u0014B4JKMf�~e���l\u000f���\t�\u000e���4b�=$�{�X�%\u001b!�'y,�K���N�F$R\n",
      "    <b�\u0012b\u0006+�y�p:�>\n",
      "��C�\u00024�w!�\"oK���?�й�\u001c�IEr��[�KZ��6\u0006���Ѓ������|K}R-u��Lq[��\n",
      "��\u0014q[�[ٗ�&amp;�����*[^\\\u0011��\u0007c���yt?��(oNTM\u001e�K��\u0016����j�ڜ�\u0002;\u001c���E�͎\u0012]gޒ�F$%�T|-\u001al�-��E��7܉ \u0011�\u0011��v�i�\u001f�\u000f\u001c�y���Tl-���H)ɽ�\u0015��g�\u0014�\u001c����v\u0005W\u0006��T^\u000e�f�7q'��\n",
      "     <x�_��nxt�q��n2���ŝ\u0005�|��í6��k�a\u000b�[��y�s1\u0016�ĺk�s΂�;\u001bc���%�'��p� 6�����x����\u0001�=\"\" �\u0004=\"\" �t��j^\u0012��h\u0016tv��m�lmf��˫�a`i$ƈ\u0014�か%�\"+����i+kz7a��h3�`��z�ټ�w\u000eh�n��\u0014q��j��_��zw6�\u0017�\\g�\\\u0007�=\"\" ���.��o���vl*��h\u0007����b]�=\"\">\n",
      "      `!9��ro\u001a�W����\u0015@�O\n",
      "      <y��w�s��� '�0���\u0001h����r\u0011���mس<�����=\"7�ɰ��C�ng�ͱvD�O&lt;{�\\�`�;[\u0012M\\*��zPW��,1^v\u0004�53��&lt;?K��N��613��|)��J�M�M��Y�֋�r¦���\u0016\" `���&�ۂb�'7\u0011�^=\"\" h�=\"\" sx��n�􈥕exmb���3�k5=\"\" �k�^�c(�{�5j\u001a�=\"\">\n",
      "       ���\n",
      "U\u0000\u0016O����]@_\u000f[�i���6t�(��9����\u0012�����ߡ�\t���!�\u0012�*�˶���J�����W@\u000fǂ�L�����gϢ\u0003��Π��\u0002:j5�egRf\"�\u0000�\f���QX�b���\u001c�\u001b��\u0002n{m\u0002s��eݎ�_\u0016�de�]Qk�6�&gt; �p��\u001d��xFآ�&gt;gً�~\\�\u0014\u0015��Ƒ����\u0000�\u0018\u0013R�@�\u0016s����4�u\u001dc�J.�\u0010b�4�\u001e��qc����QB  \u0000F�&amp;\u0004�C���X��\u00184\u000b�6�!%޽\u0014\f��\f%�T��ɿ�`�o���&amp;\":9ݯ�\u0016ʆ*���Fzq���\u0010wZ�!��8!�z&lt;\u0016��\f������Cv\u0018��D�\u001cI4F⊊��\u0016k�`&gt;aU���\u001a�\u001eu0\f��\u0019@څ�T�\u000b���1�\u0015�˯��&amp;\u0007\u001b|D*\u001b�D�a��6�+��E ���F\u001a�\"2ݒ�!6�bJJ�8\u0018ü���j�\n",
      "!�M\u0006ZsB�H,��,\u00144�5��ի9��p\u0018�\u0007�QT�\u0004o\u0005�24^Z-��ڄ�����_4��I��\u0010�\"��(28\f��^\u0004�\tP�3�F���D\u000bS9/,�� �1��ޠ�BD`Иx��\u001bB5'������[�D.��-�=\u0010���$��,��TP\u0017m��K#���6�Qѣ��Q$xϠ[OL��{�b�0�[c����Z�\u001be�y \"�1|ՙ�����t���D4{�����������6�����c��kE�\u000e6�Ҷ�_�G�G�,\u0011�\u0007q��./:3X+�\u001f7�\u001b\u001dv%\u001c\u0014m@���^�\u000e�ҭ�.n�Ӧ\u001e\u001c\u001b`�Z\u0018[�B����b5��\u0011y�7u�\"�\u0004H�&gt;I��UQ���\u0015\u0003\u000eR\u001a-�\u0013ˤB\u0012MK:5����-\u000b��Z\\c9r�IE�tӚ\u00188�Y_�\u0002\u0002)�kgӫ���~����\u0012t/��\u0010b�x\u000f� hM��~4�-���Z# \u000e\u001c�j�a+xь�\fΈ΃=��-#,���`��\u0004j�&lt;�M�&gt;�\u001fa5���ƭ�T�K\u000fq�\\���lz���\u001d�\u000b��ϡ�&amp;�g�Z�p�479=��\u0015\u001b1$���}R��w����t �qX�R�]�w\u0006Eŝ�ڿ����A0�Wћ�=��dÝ6XOVyl0�;��d�\u0018\u001b��a\u0010\u0013��Z6\u0004��s�t�����������aHO�n�{\n",
      "Y\u0001i�b�u�㚕���\u0004+%W+\u0018�����fpm��\u001fT?ܥq7�-\u001b��ɩ�Z��&amp;�᳂�w�DJ�^�J�g6����X&lt;K]:\u0006%��9&lt;;@t���#T�@-�C{Q�obtA�t\u0001��\u0005\u0015�.�ћφv�\u001fga�z�qk.&amp;��*9�$��£���'�^�WK��UT��Z�G'O\u0000�x\u0018��0~:0�c�ٰ\u0014�\u001f)I:��\u0000\u000f!�.��\u0001|i�!dCS�X�.���Z�\u001f����Tβ!z��=vV����ȹ�/J�{��r\u001cF#J:��lX\u000b�)?R�\"&gt;�gѫȆƐ|N|\u001bJ\u000f��՝�&gt;9�=r��\u001fE1� 5�@A��\u0011��TԵ���\u0000]�x\u000f9�\u0017���:�wۉ���\n",
      "       <e\u001c�ݏ�\u0006ě�%���\u000f!����e�g����\u0014y�9\u0018s!�\u001b���0n�\u0016\u0007ԯrk�gp\u00168%7xg��sek��\u0017\u0018k�f���8��� ^���(e��p�\u0011��2�$o�߬�\u0012p�]�pђi�e�!����о����=\"\u0001���)uGX\u0018\u0011F]��V�&lt;\u001aQ�[�����5�O�{o*��w9�\" kn�\u0005��r�m��ȗ��l\"b#\u0001(��ƥ*\u0006em\u0011΅���e��ϙ`u$�l����]���\u0001=\"\" n�\u0005����!\u0000=\"\" �\u0003=\"\" �\u000f��`�j�ap�sľ\"�%<o�ovl�\u0011�j�ϭ&7\u00196�f�є4��ìz�f�8k��\"3�$�to}\u0001�mv\u0012�z�\u0016\u0014�gl��4�\u0000�=\"\" �b�\u0001�bap���\u0000רl.:�a�0��lh�r�\u000e����,��t�����=\"\" �ۭ�������4=\"7�\u000fP�UD*%v�xׅi�̨�\u0010(�P�\" ���.�&�f����\\���qj.��ۼ4�\u001aj�@��w��p�m�\u0011���w�<�b�\u0015�ć��~f�m{\u0012=\"\" ���yao7�m廠�]_rk�\u001a<[3��e6����c�����}x��\u0010�8���ؚ�k����v�=\"\">\n",
      "        k��/xJԪQDZ�d}\n",
      "\u0005�\u0001\u0013�Z\u001e����-���\\5��hmW�+~��\u0003/�0�ث9��\u0019��\u001d\u0011\u001fEMim'�i���ʂ���t��&gt;sc}�q��\u0016�\u0010\u0018΍W�\\�Yˬ�\u0017\u0000ޚ�eȝ2EU���c���\u0006\u0010\u0005޹�y��\u0011\u0006C�s\u0002z�p���H�6��\u0019�}sA�\u0007\u0001ג��-B����n�_i�Z��ֻ\u0019\u001c�\u0015|�\u0016�cD\fv�OV=i�-��\f\u0013�͘�\u0016�e��3v�s���[���5�~@�ҽ�p#�\u000b��ZR[\\��3�j�_)����)]�&gt;\u0016*\u0012�[�&amp;�V?Z�\u001b�5@����\u0016Q��A�\u0014�Y��W\u001e���\"&lt;��tD�\u001c���xt�&gt;+K t羴ܹo��ǋ�;`�PFt�D\u0014�\u001a�\u0016am�p�=�Ĝ�n\u0007�\u0006@&lt;��6���@\u0010�sh\u0007�ĺ\u001f�_5��$��l.��������[�a���\u001a\u0018 `eF\u000fg��H��\u0013�E�4\u0005��*���\u00189DR��V=^\u000bO���a�d̪�=^�*�\u001c�h,Q\u001ag�bn\u0018\n",
      "�ý]5�������֫3�à\u001f1^\t�I,u�\u0004�ny��\u001d�N�b'����,\f�;��'��\u0002\u0016Z�\u001d���\f\u0004U+3�a}�3��Ą?��}�\u0016�z�8\u0007��E�\fb\u0013�1\u0016E8�E�ك\u0015�#\u0010%\u0016\u0016�X�u��:\t���ꀏ�\"�\u000ez\u00121�\u0006��N��#����B�\u000b�v\f�\")n�\u001e�®�?��S�\u001f4�\u001b���y*XnAP�o�@��\\j�\u001b�ɤ���&gt;+ө;c�.Ǎ��\u0016a}D�\u000b�kl�\u0005��`/56%U�}^%��i3]��F`\f�\u0016�L\u001cN嬠��W5iU\u0016��;&amp;���mKQ\u0015o�j�p&lt;�{�-��\u0014�\u0002\u0005���G��EH\u001f&lt;� F�+�L���\n",
      "����ܑ��v��v�81��l=z�\u0015\\�\u0000��w��d��m��z��q\fu\"\u0011���ވq��6�\u0014�m�/��{�#^\t\u0006wS�[(��Q=;�\u0003\"�\f�\u000b\u0003���7v)eZb�,����he6�����`��3\u0015�]�T&amp;�Ξ��G��%\u001f�M��^�6�O\u000e��1��`��8\u0010\u0013����1P}�W\u000eh7�[�\fvW�I�S���T�2#\u0015��*�\u0013vC\u0015(\tnV�\u000f�\u0005�z\u0011���_&amp;-i��-E*\u0019�\t�h��۬�������}�Wv�m8Ȇ���g�L\u001a\n",
      "�xmfm\u000f9��-\u000b�`��|\u0014_���'G��À\u001bwp|��q4���A�\n",
      "{�Q�o_�_p8\u0012\n",
      "�:��вq�v�C!݃��|��B�;����\u0018�BJ\u001a\u001e��J��1�8Ԉx�R&amp;4.�&gt;�s�j%t�#\u0012�)Kﶗ\u0019�\u000b��IW\u0005��vnxVK�Đ�\u0006C�\u001e�*]��,?��)u]r�\u0003��a\u000f���d��0p����aeH$��\u000e\u0003F-��\u0015ڏ&amp;�����u�\u0004\u001e���g\u0019޹��:^\u0010�\u001e����C]���\"�)�\f�.wV�\u0015d�\u0014�33Ԑ�&lt;�&lt;��r$}Sw�k\":��ɛC���\n",
      "^`=֦�\u0003���@�ҙ�\u000e�\u0001m'�ˑ�C+���$���=�;\u000e�L2\u001d��zk�\u0001=\u0018���\u0018\\�8\u001c�\u001b�Ԭ��\\[�;!\f�\fF���p��@Z��P[�9��1aC�'�\n",
      "        <t���c�\u0012#�%\u001ejbj�=ِ'h���>\n",
      "         \u0014\u001e\u0013�P\u001c\u0019u�1�Ke&gt;�\u0005�&gt;ك�\u0018yB`\n",
      "������WŸR���&amp;&amp;\u000fz�ם��T�!�=�T�\u001d���\u0010��[+�8\u000f5��Y*Y��丼��YA_��b��Ĳ�,\u0003i��m�H�4_[�,�s\"�v�\u000e���\u00104�p� 2�o��\t­$��S%/hp|\n",
      "         <kfo6���\u0011,:�z*8�m϶�\u00164\u0019m%a�ڨk�p�ba+ 1|q�b=\"\" u\u0016z��+2�zk�=\"\" ����b��fq\u0013�\u0002l��l�,�\u0019�u�laj�q)�mvվb֝f$����v��-�ř\u0013��v�\u000f��ӹl��cs[�=\"\">\n",
      "          �\u001b8�i�萳�24j��?�Xh�aF�\u0004�2�0\u0000��\f�\u000b�s,t�\"\u0006�C�t\u000f��vT���\u0019,½8�D�_��8\u001aʲeQ4�q$\u0017l� /��\u000e�+�r�\u0016c:���ڐ�H\n",
      "          <e3v\u001b \u001b�:b�nt=\"\" w��-fi���a{ql�y��h�)j%=\"\">\n",
      "           \u001b�\u0003[C��\u001e���_\u0010�\u0005�t�ņ_M̗�b&lt;�2\u0016�{�bY�,��-\u0018ư\fw(sL��)��~=\n",
      "\u0019���R#�w����\f�G\u0016Asd�7�z�\u0018N]\u0005\u0017��ͫ��Z�oW�cW��̣�p��\u0015�ZH�\u001b��\t�d��\u0001�F��o,�~Z}�z��7?�Ꮗ�G��&gt;�|�\u0004���/�\u000bs\f3?��\f��\u000f�ɿ��$�\u0011\u001f����l�\u0011&amp;�\u0016̵��ֲ�Cȑ��\u0016�o�\u001b��&amp;��-�'�ƹ�\u001d��zvE��\u0019^R�%#�\u0011�\u000f\u000e�%��ϟk\u0015+\u000b \u0001i��ϟka�K�p&amp;�\u001c1�8��s�l\u0014�\u0012�&amp;Tu\u001e%�!Exj�]�{m}zԇaʽC�z�\u0005�NN��i\u0011Ԟ�_�T%\u000bɃ��XX�\u0014�G��\n",
      " k���az+�\u001dbp��\u0005�����\"ɯ��]f��\u0005��U��ƄA�٨�X��ːy�*�\u0015����Hf�#S����n`o\u001a #�+]X,MQ ^��@�䯧%96y=��Б|�`q���vĨ���s[0���4�yF�����Ώ?,-:#��?�\u0002�a.+��ߤ\u0014��jY����ln�h�!��8����Z6����4\u001a�ͷ�2��C�\u0019�R�׎d��ٔ?�&amp;�1�C����YLNJW\u001a\u0012���y���2���f9�b� �a��^1=�6\u0018�/��\u00155&amp;�H� �j�=��\\���4&amp;eH��x:��J��#+y~\u000fB���'\u001e� �Ⱦ�m\u001d��\fQkO2@�\u000b��&lt;\u0011�&lt;�v6߸��e�]�G�p:�Ŏ���`�K��\u001b�՝�,\u0011�\u000e2���\u001a��YVl!Q\u0012�Mz���\u001a���=�0F�J�\\ruد�J��\u001e\u001f�\u000f&amp;��2\u000e�E���-��F���{�\u001f�{5\u0018m\u0002ճMĈ����\\\u0016�#�m�w\"�����8km\u001c.�*\u0015.�\u000b�PK�[�����&lt;�\u000e\u0013��^yI��6\u000e%�.�ltQ�6\u000e���\u001aU��J\u001ch��\"C��W�ӗTR:���cȘ\"$��ټ�\u001e6-\u001b\u0006,D�e�8\fJ6{m��5�&lt;���ǆ��\u0002���M�M�ѡ�[\u0002�m���\u001e\u0013\u001b�\u001bi-��2�e�,4~�\f\u001b�áI����hB\u0006�i�*������H��BpS��g�7�~�\u00027oܴ!����\u000eVd�\u0018(M\u001b�a\ta\u0012�|o\u0016���-��!\u0017�\u0003�ߠ��|�\u00023\u0000�y\u0010�d�O2rL�\u0011$�b\n",
      "o\u0013\u0010\u001a\u0007��b�\u0018Uע��q`\\\u001fM\u0004�O�x�&amp;#�\u001e�\u0007`�hE�\u0007�����'_�c̓���C��$�����\u0017:\u001f\u001a���7.��HA\u0005�Q�]�q�&lt���uklN�Ssu#����B8�򘁐��E���������o\\�O*j�{M\u001e��Ϻi��̾&amp;!4\u000eғ��\u001aɁ�Z[����i��\u0019�Y���lt��妦\u0012�JG�\"L����\f\u0011�Y\u0006������p�|�\u000b���E��\u001c�M�`�9�ˣ$E��kU�\u0013\u001fs\n",
      "�� 4\u000f\u001e5H6\u000f\t�o\\�Kw�U\u001bU�V8h\\�M_�ݦ&amp;�0s�Bc���d|��\u0000\u0007?\u001e�ַG�&lt;�3��O�\u001ctoD��#�hrZ J\t]3ɔS���\u0000~l!\u0016�`̡\u0010*�\u0002A����E�\u000e�ܞ�� 1W�U�d]��4\u0018��\u0017TV�=��LeJ\u0003�e�;�\u0010\u0001G�[}F\n",
      "           <r\u00189g��|n��\u000b�e\u0015fp�\u001d��1�a]�\u0012�g�(\u0006�v\u001dw�f�z��{�q�����΍x\"xn�r{t�\u0003\u000e�d�\u001c�l���)u�6��q8+9r�;�g\u0018�'k���'��\u001a1mj�c���\"xq܁utx��(�\u001bx�v��p�s���m�_� $1��ryll\"����ťʍ��=\"\" <\u001avl&��\u0002$��s4�=\"\" ��i]^4=\"\">\n",
      "            S}�Z էxT\u0013�Q�v7i��\u0019���`�����\n",
      "��f�H\n",
      "�F\u0017�z��iM\u0013F�-�&lt;\u0015S/\"���\u0018x��\u0005W�\u001f��?�F|����* �O��ճ,����m�ϭ\u001b�Yr�B;�'�bJw?��T�9�/��؋V\f�g�\n",
      "�C���\u0019����&lt;�Fw-cQf��7\u001dT����|�\u001b��\u0013����$��,�I\u001a��{��\u000fs�(J�J-�Y\u000eF\u0013]�\u001fvb���]�&gt;��\u0000\n",
      "           </r\u00189g��|n��\u000b�e\u0015fp�\u001d��1�a]�\u0012�g�(\u0006�v\u001dw�f�z��{�q�����΍x\"xn�r{t�\u0003\u000e�d�\u001c�l���)u�6��q8+9r�;�g\u0018�'k���'��\u001a1mj�c���\"xq܁utx��(�\u001bx�v��p�s���m�_�>\n",
      "          </e3v\u001b>\n",
      "         </kfo6���\u0011,:�z*8�m϶�\u00164\u0019m%a�ڨk�p�ba+>\n",
      "        </t���c�\u0012#�%\u001ejbj�=ِ'h���>\n",
      "       </e\u001c�ݏ�\u0006ě�%���\u000f!����e�g����\u0014y�9\u0018s!�\u001b���0n�\u0016\u0007ԯrk�gp\u00168%7xg��sek��\u0017\u0018k�f���8���>\n",
      "      </y��w�s���>\n",
      "     </x�_��nxt�q��n2���ŝ\u0005�|��í6��k�a\u000b�[��y�s1\u0016�ĺk�s΂�;\u001bc���%�'��p�>\n",
      "    </b�\u0012b\u0006+�y�p:�>\n",
      "   </pe���>\n",
      "  </ic&���k$\u000edd5���ͱo�>\n",
      " </m�\u0003\u0002���>\n",
      "</g6�����\u0018%�;�?l���p�\u0018�̛��1#��>\n"
     ]
    }
   ],
   "source": [
    "page = requests.get('https://supplementdatabase.com/supplement-product-filter.php?prodtype=Protein+Supplements', headers=user_agent) # Getting page HTML through request\n",
    "soup = BeautifulSoup(page.content, 'html.parser') # Parsing content using beautifulsoup\n",
    "print(soup.prettify())"
   ]
  },
  {
   "cell_type": "markdown",
   "metadata": {},
   "source": [
    "Agafem del ***html*** tots els links dels productes i els afegim a un llista anomenada `list_links`."
   ]
  },
  {
   "cell_type": "code",
   "execution_count": 7,
   "metadata": {},
   "outputs": [
    {
     "name": "stdout",
     "output_type": "stream",
     "text": [
      "445\n"
     ]
    }
   ],
   "source": [
    "all_products = soup.select(\"table tbody tr td a\")\n",
    "list_links = []\n",
    "\n",
    "first200 = all_products[:200] # Keep only the first X links\n",
    "for product in all_products:\n",
    "    page_link = href_source + \"/\" + product[\"href\"]\n",
    "    list_links.append(page_link) #Anem guardant els enllaços dels productes a una llista\n",
    "\n",
    "print(list_links)"
   ]
  },
  {
   "cell_type": "markdown",
   "metadata": {},
   "source": [
    "Entrarem a cadascun dels links de la llista `list_links` que corresponen als diferents productes dintre de la categoria de suplementació proteica. Per cada referència d'un producte agafarem la informació que ens interessa i l'afegirem a un diccionari anomenat `row`. Cadascun d'aquests diccionaris correspondrà a cadascuna de les files del dataset que es vol obtenir, per tant, anirem afegint cada diccionari que es va creant per cada producte a la llista anomenada `data`."
   ]
  },
  {
   "cell_type": "code",
   "execution_count": 8,
   "metadata": {},
   "outputs": [],
   "source": [
    "data = []\n",
    "\n",
    "for link in list_links:\n",
    "    row = {}\n",
    "    prod_page = requests.get(link, headers=headers)\n",
    "    prod_soup = BeautifulSoup(prod_page.content, 'html.parser')\n",
    "\n",
    "    #Get list list elements\n",
    "    elements = prod_soup.find(\"ul\", class_=\"list list-icons list-icons-sm\")\n",
    "    for ele in elements:\n",
    "        text = ele.get_text()\n",
    "        if len(text) > 1:\n",
    "            key, value = text.split(\": \")\n",
    "            if key == \"Manufacturer Website\":\n",
    "                r = ele.find(\"a\")[\"href\"]\n",
    "                row[key] = r\n",
    "            elif key == \"Manufacturer Social Media\":\n",
    "                r = ele.find(\"a\")[\"href\"]\n",
    "                row[key] = r\n",
    "            elif key == \"Research Rating\":\n",
    "                r = re.search(\"(.*)\\(above 60 indicates sufficient research\\)\", value).groups()\n",
    "                row[key] = r[0]\n",
    "            elif key == \"Serving Size\":\n",
    "                r = re.search(\"\\w+\\s\\w+ \\((.*)\\)\", value).groups()\n",
    "            #     r = re.search(\"[1-9] scoop \\((.*)\\)\\n\", value).groups()\n",
    "                row[key] = r[0]\n",
    "            elif key == \"Calories per Serving\":\n",
    "                r = re.search(\"(.*) calories\", value).groups()\n",
    "                row[key] = r[0]\n",
    "            else:\n",
    "                row[key] = value\n",
    "\n",
    "    #Get Updated date\n",
    "    updated_date = prod_soup.find(\"i\", class_=\"fas fa-clock\").next_element\n",
    "    updated_date = re.search(\"Updated (.*), (.*)\", updated_date).groups()\n",
    "    row[\"Updated Month Day\"] = updated_date[0]\n",
    "    row[\"Updated Year\"] = updated_date[1]\n",
    "\n",
    "    #Get Macros percentage\n",
    "    info = prod_soup.find(\"div\", class_=\"col-lg-9\")\n",
    "    for i in info: \n",
    "        i = str(i)\n",
    "        if \"<li>fat\" in i:\n",
    "            fat = re.search(\"<li>fat: (.*)%</li>\", i).groups()\n",
    "            carbs = re.search(\"<li>carbohydrates: (.*)%</li>\", i).groups()\n",
    "            prot = re.search(\"<li>protein: (.*)%</li>\", i).groups()\n",
    "            row.update({\"Fat (%)\": fat[0], \"Carbohydrates (%)\": carbs[0], \"Protein (%)\": prot[0]})\n",
    "\n",
    "    #Get Macros information\n",
    "    macros_info = str(prod_soup.find(\"a\", id=\"macros\").next_element.next_element.next_element.next_element.next_element.next_element.next_element.next_element)\n",
    "    macros_info = re.search(\"<p>(.*)</p>\", macros_info).groups()\n",
    "    row[\"Macros details\"] = macros_info[0]\n",
    "\n",
    "    data.append(row)"
   ]
  },
  {
   "cell_type": "markdown",
   "metadata": {},
   "source": [
    "Finalment, convertim la llista a un ***DataFrame*** anomenat `df` i l'exportarem a un document ***.csv*** anomenat  `supl_prot_prods.csv`. "
   ]
  },
  {
   "cell_type": "code",
   "execution_count": 9,
   "metadata": {},
   "outputs": [],
   "source": [
    "# Export data to csv\n",
    "df = pd.DataFrame(data)\n",
    "df.to_csv(\"supl_prot_prods.csv\", index=False)"
   ]
  },
  {
   "cell_type": "code",
   "execution_count": 26,
   "metadata": {},
   "outputs": [
    {
     "name": "stdout",
     "output_type": "stream",
     "text": [
      "2020\n",
      "2022\n"
     ]
    }
   ],
   "source": [
    "# print(df.info())\n",
    "print(df[\"Updated Year\"].min())\n",
    "print(df[\"Updated Year\"].max())"
   ]
  },
  {
   "cell_type": "code",
   "execution_count": 609,
   "metadata": {},
   "outputs": [
    {
     "data": {
      "text/html": [
       "<div>\n",
       "<style scoped>\n",
       "    .dataframe tbody tr th:only-of-type {\n",
       "        vertical-align: middle;\n",
       "    }\n",
       "\n",
       "    .dataframe tbody tr th {\n",
       "        vertical-align: top;\n",
       "    }\n",
       "\n",
       "    .dataframe thead th {\n",
       "        text-align: right;\n",
       "    }\n",
       "</style>\n",
       "<table border=\"1\" class=\"dataframe\">\n",
       "  <thead>\n",
       "    <tr style=\"text-align: right;\">\n",
       "      <th></th>\n",
       "      <th>Product Name</th>\n",
       "      <th>Manufacturer</th>\n",
       "      <th>Manufacturer Website</th>\n",
       "      <th>Manufacturer Social Media</th>\n",
       "      <th>Supplement Category</th>\n",
       "      <th>Effectiveness Rating</th>\n",
       "      <th>Number of Active Ingredients</th>\n",
       "      <th>Research Rating</th>\n",
       "      <th>Serving Size</th>\n",
       "      <th>Calories per Serving</th>\n",
       "      <th>...</th>\n",
       "      <th>Nutrition Label Transparency Score</th>\n",
       "      <th>Nutrition Label Fat Content Transparency Score</th>\n",
       "      <th>Ranking within Protein Supplements</th>\n",
       "      <th>Ranking within all Supplement Products</th>\n",
       "      <th>Updated Month Day</th>\n",
       "      <th>Updated Year</th>\n",
       "      <th>Fat (%)</th>\n",
       "      <th>Carbohydrates (%)</th>\n",
       "      <th>Protein (%)</th>\n",
       "      <th>Macros details</th>\n",
       "    </tr>\n",
       "  </thead>\n",
       "  <tbody>\n",
       "    <tr>\n",
       "      <th>0</th>\n",
       "      <td>Whey Protein Isolate</td>\n",
       "      <td>NutraBio</td>\n",
       "      <td>https://www.nutrabio.com/</td>\n",
       "      <td>https://instagram.com/nutrabio</td>\n",
       "      <td>Protein Supplements</td>\n",
       "      <td>2.4 out of 3</td>\n",
       "      <td>1</td>\n",
       "      <td>80</td>\n",
       "      <td>30g</td>\n",
       "      <td>120</td>\n",
       "      <td>...</td>\n",
       "      <td>100%</td>\n",
       "      <td>100%</td>\n",
       "      <td>2 out of 446 (top third within category)</td>\n",
       "      <td>2 out of 4583 (top third of all products)</td>\n",
       "      <td>October 24</td>\n",
       "      <td>2020</td>\n",
       "      <td>0</td>\n",
       "      <td>3</td>\n",
       "      <td>83</td>\n",
       "      <td>Whey Protein Isolate contains 120 calories per...</td>\n",
       "    </tr>\n",
       "  </tbody>\n",
       "</table>\n",
       "<p>1 rows × 23 columns</p>\n",
       "</div>"
      ],
      "text/plain": [
       "           Product Name Manufacturer       Manufacturer Website  \\\n",
       "0  Whey Protein Isolate     NutraBio  https://www.nutrabio.com/   \n",
       "\n",
       "        Manufacturer Social Media  Supplement Category Effectiveness Rating  \\\n",
       "0  https://instagram.com/nutrabio  Protein Supplements         2.4 out of 3   \n",
       "\n",
       "  Number of Active Ingredients Research Rating Serving Size  \\\n",
       "0                            1             80           30g   \n",
       "\n",
       "  Calories per Serving  ... Nutrition Label Transparency Score  \\\n",
       "0                  120  ...                               100%   \n",
       "\n",
       "  Nutrition Label Fat Content Transparency Score  \\\n",
       "0                                           100%   \n",
       "\n",
       "         Ranking within Protein Supplements  \\\n",
       "0  2 out of 446 (top third within category)   \n",
       "\n",
       "      Ranking within all Supplement Products Updated Month Day Updated Year  \\\n",
       "0  2 out of 4583 (top third of all products)        October 24         2020   \n",
       "\n",
       "  Fat (%) Carbohydrates (%) Protein (%)  \\\n",
       "0       0                 3          83   \n",
       "\n",
       "                                      Macros details  \n",
       "0  Whey Protein Isolate contains 120 calories per...  \n",
       "\n",
       "[1 rows x 23 columns]"
      ]
     },
     "execution_count": 609,
     "metadata": {},
     "output_type": "execute_result"
    }
   ],
   "source": [
    "pd.DataFrame(data)"
   ]
  }
 ],
 "metadata": {
  "interpreter": {
   "hash": "31f2aee4e71d21fbe5cf8b01ff0e069b9275f58929596ceb00d14d90e3e16cd6"
  },
  "kernelspec": {
   "display_name": "Python 3.8.9 64-bit",
   "language": "python",
   "name": "python3"
  },
  "language_info": {
   "codemirror_mode": {
    "name": "ipython",
    "version": 3
   },
   "file_extension": ".py",
   "mimetype": "text/x-python",
   "name": "python",
   "nbconvert_exporter": "python",
   "pygments_lexer": "ipython3",
   "version": "3.8.9"
  },
  "orig_nbformat": 4
 },
 "nbformat": 4,
 "nbformat_minor": 2
}
